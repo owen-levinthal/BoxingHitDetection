{
 "cells": [
  {
   "cell_type": "code",
   "execution_count": null,
   "metadata": {},
   "outputs": [],
   "source": [
    "# import sys\n",
    "# !{sys.executable} -m pip install adafruit-circuitpython-lis3dh"
   ]
  },
  {
   "cell_type": "code",
   "execution_count": null,
   "metadata": {},
   "outputs": [],
   "source": [
    "import board\n",
    "import adafruit_lis3dh\n",
    "import time\n",
    "import busio\n",
    "import csv"
   ]
  },
  {
   "cell_type": "code",
   "execution_count": null,
   "metadata": {},
   "outputs": [],
   "source": [
    "i2c = board.I2C()  # setting up accelerometer object\n",
    "lis3dh = adafruit_lis3dh.LIS3DH_I2C(i2c)\n",
    "lis3dh.range = adafruit_lis3dh.RANGE_8_G\n",
    "\n",
    "\n",
    "#the code below logs to a csv the acceleration at a rate of roughly 380 observations per second, along with the time of each observation\n",
    "\n",
    "run_time = 210 #run time of program in seconds\n",
    "\n",
    "date = time.strftime(\"%d_%b_%Y %H:%M:%S\", time.gmtime())\n",
    "header = ['x','y','z','time']\n",
    "with open('data {}.csv'.format(date),'a') as f:\n",
    "    writer = csv.writer(f)\n",
    "    writer.writerow(header)\n",
    "    \n",
    "    time0 = time.time()\n",
    "    time1 = time0 + run_time\n",
    "    \n",
    "    while (time0 <= time1):\n",
    "        time0 = time.time()\n",
    "        x,y,z = lis3dh.acceleration\n",
    "        data = [x,y,z,time0]\n",
    "        writer.writerow(data)\n",
    "\n"
   ]
  }
 ],
 "metadata": {
  "kernelspec": {
   "display_name": "Python 3",
   "language": "python",
   "name": "python3"
  },
  "language_info": {
   "codemirror_mode": {
    "name": "ipython",
    "version": 3
   },
   "file_extension": ".py",
   "mimetype": "text/x-python",
   "name": "python",
   "nbconvert_exporter": "python",
   "pygments_lexer": "ipython3",
   "version": "3.8.3"
  }
 },
 "nbformat": 4,
 "nbformat_minor": 4
}
